{
 "cells": [
  {
   "cell_type": "code",
   "execution_count": 1,
   "metadata": {},
   "outputs": [
    {
     "name": "stdout",
     "output_type": "stream",
     "text": [
      "{'서울': 0, '서울 종로구': 0, '서울 중구': 0, '서울 용산구': 0, '서울 성동구': 0, '서울 광진구': 0, '서울 동대문구': 0, '서울 중랑구': 0, '서울 성북구': 0, '서울 강북구': 0, '서울 도봉구': 0, '서울 노원구': 0, '서울 은평구': 0, '서울 서대문구': 0, '서울 마포구': 0, '서울 양천구': 0, '서울 강서구': 0, '서울 구로구': 0, '서울 금천구': 0, '서울 영등포구': 0, '서울 동작구': 0, '서울 관악구': 0, '서울 서초구': 0, '서울 강남구': 0, '서울 송파구': 0, '서울 강동구': 0, '부산': 0, '부산 중구': 0, '부산 서구': 0, '부산 동구': 0, '부산 영도구': 0, '부산 부산진구': 0, '부산 동래구': 0, '부산 남구': 0, '부산 북구': 0, '부산 해운대구': 0, '부산 사하구': 0, '부산 금정구': 0, '부산 강서구': 0, '부산 연제구': 0, '부산 수영구': 0, '부산 사상구': 0, '부산 기장군': 0, '대구': 0, '대구 중구': 0, '대구 동구': 0, '대구 서구': 0, '대구 남구': 0, '대구 북구': 0, '대구 수성구': 0, '대구 달서구': 0, '대구 달성군': 0, '대구 군위군': 0, '인천': 0, '인천 중구': 0, '인천 동구': 0, '인천 미추홀구': 0, '인천 연수구': 0, '인천 남동구': 0, '인천 부평구': 0, '인천 계양구': 0, '인천 서구': 0, '인천 강화군': 0, '인천 옹진군': 0, '광주': 0, '광주 동구': 0, '광주 서구': 0, '광주 남구': 0, '광주 북구': 0, '광주 광산구': 0, '대전': 0, '대전 동구': 0, '대전 중구': 0, '대전 서구': 0, '대전 유성구': 0, '대전 대덕구': 0, '울산': 0, '울산 중구': 0, '울산 남구': 0, '울산 동구': 0, '울산 북구': 0, '울산 울주군': 0, '세종': 0, '세종 반곡동': 0, '세종 소담동': 0, '세종 보람동': 0, '세종 대평동': 0, '세종 가람동': 0, '세종 한솔동': 0, '세종 나성동': 0, '세종 새롬동': 0, '세종 다정동': 0, '세종 어진동': 0, '세종 종촌동': 0, '세종 고운동': 0, '세종 아름동': 0, '세종 도담동': 0, '세종 산울동': 0, '세종 해밀동': 0, '세종 합강동': 0, '세종 집현동': 0, '세종 세종동': 0, '세종 누리동': 0, '세종 한별동': 0, '세종 다솜동': 0, '세종 용호동': 0, '세종 조치원읍': 0, '세종 연기면': 0, '세종 연동면': 0, '세종 부강면': 0, '세종 금남면': 0, '세종 장군면': 0, '세종 연서면': 0, '세종 전의면': 0, '세종 전동면': 0, '세종 소정면': 0, '경기': 0, '경기 수원시': 0, '경기 성남시': 0, '경기 의정부시': 0, '경기 안양시': 0, '경기 부천시': 0, '경기 광명시': 0, '경기 평택시': 0, '경기 동두천시': 0, '경기 안산시': 0, '경기 고양시': 0, '경기 과천시': 0, '경기 구리시': 0, '경기 남양주시': 0, '경기 오산시': 0, '경기 시흥시': 0, '경기 군포시': 0, '경기 의왕시': 0, '경기 하남시': 0, '경기 용인시': 0, '경기 파주시': 0, '경기 이천시': 0, '경기 안성시': 0, '경기 김포시': 0, '경기 화성시': 0, '경기 광주시': 0, '경기 양주시': 0, '경기 포천시': 0, '경기 여주시': 0, '경기 연천군': 0, '경기 가평군': 0, '경기 양평군': 0, '충북': 0, '충북 청주시': 0, '충북 충주시': 0, '충북 제천시': 0, '충북 보은군': 0, '충북 옥천군': 0, '충북 영동군': 0, '충북 증평군': 0, '충북 진천군': 0, '충북 괴산군': 0, '충북 음성군': 0, '충북 단양군': 0, '충남': 0, '충남 천안시': 0, '충남 공주시': 0, '충남 보령시': 0, '충남 아산시': 0, '충남 서산시': 0, '충남 논산시': 0, '충남 계룡시': 0, '충남 당진시': 0, '충남 금산군': 0, '충남 부여군': 0, '충남 서천군': 0, '충남 청양군': 0, '충남 홍성군': 0, '충남 예산군': 0, '충남 태안군': 0, '전남': 0, '전남 목포시': 0, '전남 여수시': 0, '전남 순천시': 0, '전남 나주시': 0, '전남 광양시': 0, '전남 담양군': 0, '전남 곡성군': 0, '전남 구례군': 0, '전남 고흥군': 0, '전남 보성군': 0, '전남 화순군': 0, '전남 장흥군': 0, '전남 강진군': 0, '전남 해남군': 0, '전남 영암군': 0, '전남 무안군': 0, '전남 함평군': 0, '전남 영광군': 0, '전남 장성군': 0, '전남 완도군': 0, '전남 진도군': 0, '전남 신안군': 0, '경북': 0, '경북 포항시': 0, '경북 경주시': 0, '경북 김천시': 0, '경북 안동시': 0, '경북 구미시': 0, '경북 영주시': 0, '경북 영천시': 0, '경북 상주시': 0, '경북 문경시': 0, '경북 경산시': 0, '경북 의성군': 0, '경북 청송군': 0, '경북 영양군': 0, '경북 영덕군': 0, '경북 청도군': 0, '경북 고령군': 0, '경북 성주군': 0, '경북 칠곡군': 0, '경북 예천군': 0, '경북 봉화군': 0, '경북 울진군': 0, '경북 울릉군': 0, '경남': 0, '경남 창원시': 0, '경남 진주시': 0, '경남 통영시': 0, '경남 사천시': 0, '경남 김해시': 0, '경남 밀양시': 0, '경남 거제시': 0, '경남 양산시': 0, '경남 의령군': 0, '경남 함안군': 0, '경남 창녕군': 0, '경남 고성군': 0, '경남 남해군': 0, '경남 하동군': 0, '경남 산청군': 0, '경남 함양군': 0, '경남 거창군': 0, '경남 합천군': 0, '제주': 0, '제주 제주시': 0, '제주 서귀포시': 0, '강원': 0, '강원 춘천시': 0, '강원 원주시': 0, '강원 강릉시': 0, '강원 동해시': 0, '강원 태백시': 0, '강원 속초시': 0, '강원 삼척시': 0, '강원 홍천군': 0, '강원 횡성군': 0, '강원 영월군': 0, '강원 평창군': 0, '강원 정선군': 0, '강원 철원군': 0, '강원 화천군': 0, '강원 양구군': 0, '강원 인제군': 0, '강원 고성군': 0, '강원 양양군': 0, '전북': 0, '전북 전주시': 0, '전북 군산시': 0, '전북 익산시': 0, '전북 정읍시': 0, '전북 남원시': 0, '전북 김제시': 0, '전북 완주군': 0, '전북 진안군': 0, '전북 무주군': 0, '전북 장수군': 0, '전북 임실군': 0, '전북 순창군': 0, '전북 고창군': 0, '전북 부안군': 0}\n"
     ]
    }
   ],
   "source": [
    "# 완성 코드\n",
    "import pandas as pd\n",
    "file_path = r'C:\\Users\\user\\dev\\소스파일\\FE\\gongmo2\\src\\kmap\\datalist.xlsx'\n",
    "df = pd.read_excel(file_path)\n",
    "df = df[['법정동코드', '법정동명']]\n",
    "data_dict = {item : 0 for item in df['법정동명']}\n",
    "print(data_dict) # 278 개"
   ]
  },
  {
   "cell_type": "code",
   "execution_count": 4,
   "metadata": {},
   "outputs": [
    {
     "name": "stdout",
     "output_type": "stream",
     "text": [
      "<class 'str'>\n",
      "<class 'bytes'>\n"
     ]
    }
   ],
   "source": [
    "import requests\n",
    "\n",
    "\n",
    "url = 'http://apis.data.go.kr/B552474/SenuriService/getJobList'\n",
    "servicekey = 'nSsjmwW7P8v4/4snOCYe0og5/8LwRd7sZhBLYsnK559jxSdyQ1JpibKEmxMxEkSYvvju+HGCTch4vsNZVQY1Ng=='\n",
    "params ={'serviceKey' : servicekey, 'pageNo' : '1', 'numOfRows' : '10' }\n",
    "\n",
    "response = requests.get(url, params=params)\n",
    "# data = response.json\n",
    "#dir(response) # response.text / response.content\n",
    "print(type(response.text))  # text 값으로 str 타입\n",
    "print(type(response.content)) # byte로 암호화 되어 있음\n"
   ]
  },
  {
   "cell_type": "code",
   "execution_count": 37,
   "metadata": {},
   "outputs": [
    {
     "name": "stdout",
     "output_type": "stream",
     "text": [
      "<?xml version=\"1.0\" encoding=\"UTF-8\" standalone=\"yes\"?><response><header><resultCode>00</resultCode><resultMsg>NORMAL SERVICE.</resultMsg></header><body><items><item><acptMthd>방문</acptMthd><deadline>접수중</deadline><emplymShp>CM0105</emplymShp><emplymShpNm>CM0105</emplymShpNm><frDd>20240611</frDd><jobId>KF10072406110006</jobId><oranNm>사회복지법인삼농복지재단삼농데이케어센터</oranNm><organYn>N</organYn><recrtTitle>작업치료사 채용공고</recrtTitle><stmId>B</stmId><stmNm>워크넷</stmNm><toDd>20240810</toDd><workPlc>010070</workPlc><workPlcNm>서울 구로구</workPlcNm></item><item><acptMthd>방문</acptMthd><deadline>접수중</deadline><emplymShp>CM0103</emplymShp><emplymShpNm>CM0103</emplymShpNm><frDd>20240611</frDd><jobId>KJKR002406110012</jobId><oranNm>삼우서비스주식회사</oranNm><organYn>N</organYn><recrtTitle>1호선 관악역 석수e편한세상 아파트 미화원 구인</recrtTitle><stmId>B</stmId><stmNm>워크넷</stmNm><toDd>20240810</toDd><workPlc>030340</workPlc><workPlcNm>경기 안양시 만안구</workPlcNm></item><item><acptMthd>방문</acptMthd><deadline>접수중</deadline><emplymShp>CM0103</emplymShp><emplymShpNm>CM0103</emplymShpNm><frDd>20240611</frDd><jobId>KJKO002406110007</jobId><oranNm>(주)밝은티에스</oranNm><organYn>N</organYn><recrtTitle>아파트  외곽 청소원 모집</recrtTitle><stmId>B</stmId><stmNm>워크넷</stmNm><toDd>20240810</toDd><workPlc>030340</workPlc><workPlcNm>경기 시흥시</workPlcNm></item><item><acptMthd>방문</acptMthd><deadline>접수중</deadline><emplymShp>CM0105</emplymShp><emplymShpNm>CM0105</emplymShpNm><frDd>20240611</frDd><jobId>KJKS002406110004</jobId><oranNm>유한책임회사화이트시스템</oranNm><organYn>N</organYn><recrtTitle>양주푸르지오아파트  실내 미화원 구인</recrtTitle><stmId>B</stmId><stmNm>워크넷</stmNm><toDd>20240810</toDd><workPlc>010020</workPlc><workPlcNm>경기 양주시</workPlcNm></item><item><acptMthd>방문</acptMthd><deadline>접수중</deadline><emplymShp>CM0103</emplymShp><emplymShpNm>CM0103</emplymShpNm><frDd>20240611</frDd><jobId>KJK2002406110005</jobId><oranNm>삼우서비스주식회사</oranNm><organYn>N</organYn><recrtTitle>[가람마을7단지] 한라비발디  미화원 구인</recrtTitle><stmId>B</stmId><stmNm>워크넷</stmNm><toDd>20240810</toDd><workPlc>030340</workPlc><workPlcNm>경기 파주시</workPlcNm></item><item><acptMthd>방문</acptMthd><deadline>접수중</deadline><emplymShp>CM0105</emplymShp><emplymShpNm>CM0105</emplymShpNm><frDd>20240611</frDd><jobId>K120252406110020</jobId><oranNm>(주)이퓨인터내셔널</oranNm><organYn>N</organYn><recrtTitle>패턴사, 테크니컬 디자이너 업무 모집</recrtTitle><stmId>B</stmId><stmNm>워크넷</stmNm><toDd>20240810</toDd><workPlc>010060</workPlc><workPlcNm>서울 광진구</workPlcNm></item><item><acptMthd>방문</acptMthd><deadline>접수중</deadline><emplymShp>CM0105</emplymShp><emplymShpNm>CM0105</emplymShpNm><frDd>20240611</frDd><jobId>KEC0042406110002</jobId><oranNm>주식회사 삼구에프에스</oranNm><organYn>N</organYn><recrtTitle>[ 상여금 400% 삼성전기 ] 삼성웰스토리 운영 구내식당 조리원 구인</recrtTitle><stmId>B</stmId><stmNm>워크넷</stmNm><toDd>20240806</toDd><workPlc>010070</workPlc><workPlcNm>경기 수원시 영통구</workPlcNm></item><item><acptMthd>방문</acptMthd><deadline>접수중</deadline><emplymShp>CM0105</emplymShp><emplymShpNm>CM0105</emplymShpNm><frDd>20240611</frDd><jobId>K141112406110051</jobId><oranNm>주식회사영일에이치오엠</oranNm><organYn>N</organYn><recrtTitle>제일우성2단지 경비원 채용합니다.</recrtTitle><stmId>B</stmId><stmNm>워크넷</stmNm><toDd>20240619</toDd><workPlc>050230</workPlc><workPlcNm>경북 포항시 북구</workPlcNm></item><item><acptMthd>방문</acptMthd><deadline>접수중</deadline><emplymShp>CM0103</emplymShp><emplymShpNm>CM0103</emplymShpNm><frDd>20240611</frDd><jobId>KJLI002406110002</jobId><oranNm>강원도지적발달장애인복지협회 영월군지부</oranNm><organYn>N</organYn><recrtTitle>2024년 장애인복지일자리(참여형)사업 참여자 모집</recrtTitle><stmId>B</stmId><stmNm>워크넷</stmNm><toDd>20240625</toDd><workPlc>020080</workPlc><workPlcNm>강원 영월군</workPlcNm></item><item><acptMthd>방문</acptMthd><deadline>접수중</deadline><emplymShp>CM0105</emplymShp><emplymShpNm>CM0105</emplymShpNm><frDd>20240611</frDd><jobId>K140132406110041</jobId><oranNm>경상북도립경산노인전문요양병원</oranNm><organYn>N</organYn><recrtTitle>단체급식조리원//경북도립요양병원 조리실 근무 조리원 및 모집  [경산고용센터 채용대행]</recrtTitle><stmId>B</stmId><stmNm>워크넷</stmNm><toDd>20240810</toDd><workPlc>050010</workPlc><workPlcNm>경북 경산시</workPlcNm></item></items><numOfRows>10</numOfRows><pageNo>1</pageNo><totalCount>755302</totalCount></body></response>\n"
     ]
    }
   ],
   "source": [
    "print(response.text)"
   ]
  },
  {
   "cell_type": "code",
   "execution_count": 5,
   "metadata": {},
   "outputs": [
    {
     "name": "stdout",
     "output_type": "stream",
     "text": [
      "[<Element 'item' at 0x000001A9DE084860>, <Element 'item' at 0x000001A9DE084D60>, <Element 'item' at 0x000001A9DE085260>, <Element 'item' at 0x000001A9DE085760>, <Element 'item' at 0x000001A9DE085C60>, <Element 'item' at 0x000001A9DE086160>, <Element 'item' at 0x000001A9DE086660>, <Element 'item' at 0x000001A9DE086B60>, <Element 'item' at 0x000001A9DE087060>, <Element 'item' at 0x000001A9DE087560>]\n"
     ]
    }
   ],
   "source": [
    "import xml.etree.ElementTree as ET\n",
    "\n",
    "response_content = response.content\n",
    "root = ET.fromstring(response_content)\n",
    "print(root.findall('.//item'))\n"
   ]
  },
  {
   "cell_type": "code",
   "execution_count": 6,
   "metadata": {},
   "outputs": [],
   "source": [
    "items = []\n",
    "for item in root.findall('.//item'):\n",
    "    job = {\n",
    "        'acptMthd': item.find('acptMthd').text,\n",
    "        'deadline': item.find('deadline').text,\n",
    "        'emplymShp': item.find('emplymShp').text,\n",
    "        'emplymShpNm': item.find('emplymShpNm').text,\n",
    "        'frDd': item.find('frDd').text,\n",
    "        'jobId': item.find('jobId').text,\n",
    "        'oranNm': item.find('oranNm').text,\n",
    "        'organYn': item.find('organYn').text,\n",
    "        'recrtTitle': item.find('recrtTitle').text,\n",
    "        'stmId': item.find('stmId').text,\n",
    "        'stmNm': item.find('stmNm').text,\n",
    "        'toDd': item.find('toDd').text,\n",
    "        'workPlc': item.find('workPlc').text,\n",
    "        'workPlcNm': item.find('workPlcNm').text,\n",
    "    }\n",
    "    items.append(job)"
   ]
  },
  {
   "cell_type": "code",
   "execution_count": 7,
   "metadata": {},
   "outputs": [
    {
     "name": "stdout",
     "output_type": "stream",
     "text": [
      "[\n",
      "    {\n",
      "        \"acptMthd\": \"방문\",\n",
      "        \"deadline\": \"접수중\",\n",
      "        \"emplymShp\": \"CM0105\",\n",
      "        \"emplymShpNm\": \"CM0105\",\n",
      "        \"frDd\": \"20240611\",\n",
      "        \"jobId\": \"KF10072406110006\",\n",
      "        \"oranNm\": \"사회복지법인삼농복지재단삼농데이케어센터\",\n",
      "        \"organYn\": \"N\",\n",
      "        \"recrtTitle\": \"작업치료사 채용공고\",\n",
      "        \"stmId\": \"B\",\n",
      "        \"stmNm\": \"워크넷\",\n",
      "        \"toDd\": \"20240810\",\n",
      "        \"workPlc\": \"010070\",\n",
      "        \"workPlcNm\": \"서울 구로구\"\n",
      "    },\n",
      "    {\n",
      "        \"acptMthd\": \"방문\",\n",
      "        \"deadline\": \"접수중\",\n",
      "        \"emplymShp\": \"CM0103\",\n",
      "        \"emplymShpNm\": \"CM0103\",\n",
      "        \"frDd\": \"20240611\",\n",
      "        \"jobId\": \"KJKR002406110012\",\n",
      "        \"oranNm\": \"삼우서비스주식회사\",\n",
      "        \"organYn\": \"N\",\n",
      "        \"recrtTitle\": \"1호선 관악역 석수e편한세상 아파트 미화원 구인\",\n",
      "        \"stmId\": \"B\",\n",
      "        \"stmNm\": \"워크넷\",\n",
      "        \"toDd\": \"20240810\",\n",
      "        \"workPlc\": \"030340\",\n",
      "        \"workPlcNm\": \"경기 안양시 만안구\"\n",
      "    },\n",
      "    {\n",
      "        \"acptMthd\": \"방문\",\n",
      "        \"deadline\": \"접수중\",\n",
      "        \"emplymShp\": \"CM0103\",\n",
      "        \"emplymShpNm\": \"CM0103\",\n",
      "        \"frDd\": \"20240611\",\n",
      "        \"jobId\": \"KJKO002406110007\",\n",
      "        \"oranNm\": \"(주)밝은티에스\",\n",
      "        \"organYn\": \"N\",\n",
      "        \"recrtTitle\": \"아파트  외곽 청소원 모집\",\n",
      "        \"stmId\": \"B\",\n",
      "        \"stmNm\": \"워크넷\",\n",
      "        \"toDd\": \"20240810\",\n",
      "        \"workPlc\": \"030340\",\n",
      "        \"workPlcNm\": \"경기 시흥시\"\n",
      "    },\n",
      "    {\n",
      "        \"acptMthd\": \"방문\",\n",
      "        \"deadline\": \"접수중\",\n",
      "        \"emplymShp\": \"CM0105\",\n",
      "        \"emplymShpNm\": \"CM0105\",\n",
      "        \"frDd\": \"20240611\",\n",
      "        \"jobId\": \"KJKS002406110004\",\n",
      "        \"oranNm\": \"유한책임회사화이트시스템\",\n",
      "        \"organYn\": \"N\",\n",
      "        \"recrtTitle\": \"양주푸르지오아파트  실내 미화원 구인\",\n",
      "        \"stmId\": \"B\",\n",
      "        \"stmNm\": \"워크넷\",\n",
      "        \"toDd\": \"20240810\",\n",
      "        \"workPlc\": \"010020\",\n",
      "        \"workPlcNm\": \"경기 양주시\"\n",
      "    },\n",
      "    {\n",
      "        \"acptMthd\": \"방문\",\n",
      "        \"deadline\": \"접수중\",\n",
      "        \"emplymShp\": \"CM0103\",\n",
      "        \"emplymShpNm\": \"CM0103\",\n",
      "        \"frDd\": \"20240611\",\n",
      "        \"jobId\": \"KJK2002406110005\",\n",
      "        \"oranNm\": \"삼우서비스주식회사\",\n",
      "        \"organYn\": \"N\",\n",
      "        \"recrtTitle\": \"[가람마을7단지] 한라비발디  미화원 구인\",\n",
      "        \"stmId\": \"B\",\n",
      "        \"stmNm\": \"워크넷\",\n",
      "        \"toDd\": \"20240810\",\n",
      "        \"workPlc\": \"030340\",\n",
      "        \"workPlcNm\": \"경기 파주시\"\n",
      "    },\n",
      "    {\n",
      "        \"acptMthd\": \"방문\",\n",
      "        \"deadline\": \"접수중\",\n",
      "        \"emplymShp\": \"CM0105\",\n",
      "        \"emplymShpNm\": \"CM0105\",\n",
      "        \"frDd\": \"20240611\",\n",
      "        \"jobId\": \"K120252406110020\",\n",
      "        \"oranNm\": \"(주)이퓨인터내셔널\",\n",
      "        \"organYn\": \"N\",\n",
      "        \"recrtTitle\": \"패턴사, 테크니컬 디자이너 업무 모집\",\n",
      "        \"stmId\": \"B\",\n",
      "        \"stmNm\": \"워크넷\",\n",
      "        \"toDd\": \"20240810\",\n",
      "        \"workPlc\": \"010060\",\n",
      "        \"workPlcNm\": \"서울 광진구\"\n",
      "    },\n",
      "    {\n",
      "        \"acptMthd\": \"방문\",\n",
      "        \"deadline\": \"접수중\",\n",
      "        \"emplymShp\": \"CM0105\",\n",
      "        \"emplymShpNm\": \"CM0105\",\n",
      "        \"frDd\": \"20240611\",\n",
      "        \"jobId\": \"KEC0042406110002\",\n",
      "        \"oranNm\": \"주식회사 삼구에프에스\",\n",
      "        \"organYn\": \"N\",\n",
      "        \"recrtTitle\": \"[ 상여금 400% 삼성전기 ] 삼성웰스토리 운영 구내식당 조리원 구인\",\n",
      "        \"stmId\": \"B\",\n",
      "        \"stmNm\": \"워크넷\",\n",
      "        \"toDd\": \"20240806\",\n",
      "        \"workPlc\": \"010070\",\n",
      "        \"workPlcNm\": \"경기 수원시 영통구\"\n",
      "    },\n",
      "    {\n",
      "        \"acptMthd\": \"방문\",\n",
      "        \"deadline\": \"접수중\",\n",
      "        \"emplymShp\": \"CM0105\",\n",
      "        \"emplymShpNm\": \"CM0105\",\n",
      "        \"frDd\": \"20240611\",\n",
      "        \"jobId\": \"K141112406110051\",\n",
      "        \"oranNm\": \"주식회사영일에이치오엠\",\n",
      "        \"organYn\": \"N\",\n",
      "        \"recrtTitle\": \"제일우성2단지 경비원 채용합니다.\",\n",
      "        \"stmId\": \"B\",\n",
      "        \"stmNm\": \"워크넷\",\n",
      "        \"toDd\": \"20240619\",\n",
      "        \"workPlc\": \"050230\",\n",
      "        \"workPlcNm\": \"경북 포항시 북구\"\n",
      "    },\n",
      "    {\n",
      "        \"acptMthd\": \"방문\",\n",
      "        \"deadline\": \"접수중\",\n",
      "        \"emplymShp\": \"CM0103\",\n",
      "        \"emplymShpNm\": \"CM0103\",\n",
      "        \"frDd\": \"20240611\",\n",
      "        \"jobId\": \"KJLI002406110002\",\n",
      "        \"oranNm\": \"강원도지적발달장애인복지협회 영월군지부\",\n",
      "        \"organYn\": \"N\",\n",
      "        \"recrtTitle\": \"2024년 장애인복지일자리(참여형)사업 참여자 모집\",\n",
      "        \"stmId\": \"B\",\n",
      "        \"stmNm\": \"워크넷\",\n",
      "        \"toDd\": \"20240625\",\n",
      "        \"workPlc\": \"020080\",\n",
      "        \"workPlcNm\": \"강원 영월군\"\n",
      "    },\n",
      "    {\n",
      "        \"acptMthd\": \"방문\",\n",
      "        \"deadline\": \"접수중\",\n",
      "        \"emplymShp\": \"CM0105\",\n",
      "        \"emplymShpNm\": \"CM0105\",\n",
      "        \"frDd\": \"20240611\",\n",
      "        \"jobId\": \"K140132406110041\",\n",
      "        \"oranNm\": \"경상북도립경산노인전문요양병원\",\n",
      "        \"organYn\": \"N\",\n",
      "        \"recrtTitle\": \"단체급식조리원//경북도립요양병원 조리실 근무 조리원 및 모집  [경산고용센터 채용대행]\",\n",
      "        \"stmId\": \"B\",\n",
      "        \"stmNm\": \"워크넷\",\n",
      "        \"toDd\": \"20240810\",\n",
      "        \"workPlc\": \"050010\",\n",
      "        \"workPlcNm\": \"경북 경산시\"\n",
      "    }\n",
      "]\n"
     ]
    }
   ],
   "source": [
    "import json\n",
    "json_data = json.dumps(items, ensure_ascii=False, indent=4)\n",
    "print(json_data)"
   ]
  },
  {
   "cell_type": "code",
   "execution_count": 8,
   "metadata": {},
   "outputs": [
    {
     "name": "stdout",
     "output_type": "stream",
     "text": [
      "{'서울': 0, '서울 종로구': 0, '서울 중구': 0, '서울 용산구': 0, '서울 성동구': 0, '서울 광진구': 1, '서울 동대문구': 0, '서울 중랑구': 0, '서울 성북구': 0, '서울 강북구': 0, '서울 도봉구': 0, '서울 노원구': 0, '서울 은평구': 0, '서울 서대문구': 0, '서울 마포구': 0, '서울 양천구': 0, '서울 강서구': 0, '서울 구로구': 1, '서울 금천구': 0, '서울 영등포구': 0, '서울 동작구': 0, '서울 관악구': 0, '서울 서초구': 0, '서울 강남구': 0, '서울 송파구': 0, '서울 강동구': 0, '부산': 0, '부산 중구': 0, '부산 서구': 0, '부산 동구': 0, '부산 영도구': 0, '부산 부산진구': 0, '부산 동래구': 0, '부산 남구': 0, '부산 북구': 0, '부산 해운대구': 0, '부산 사하구': 0, '부산 금정구': 0, '부산 강서구': 0, '부산 연제구': 0, '부산 수영구': 0, '부산 사상구': 0, '부산 기장군': 0, '대구': 0, '대구 중구': 0, '대구 동구': 0, '대구 서구': 0, '대구 남구': 0, '대구 북구': 0, '대구 수성구': 0, '대구 달서구': 0, '대구 달성군': 0, '대구 군위군': 0, '인천': 0, '인천 중구': 0, '인천 동구': 0, '인천 미추홀구': 0, '인천 연수구': 0, '인천 남동구': 0, '인천 부평구': 0, '인천 계양구': 0, '인천 서구': 0, '인천 강화군': 0, '인천 옹진군': 0, '광주': 0, '광주 동구': 0, '광주 서구': 0, '광주 남구': 0, '광주 북구': 0, '광주 광산구': 0, '대전': 0, '대전 동구': 0, '대전 중구': 0, '대전 서구': 0, '대전 유성구': 0, '대전 대덕구': 0, '울산': 0, '울산 중구': 0, '울산 남구': 0, '울산 동구': 0, '울산 북구': 0, '울산 울주군': 0, '세종': 0, '세종 반곡동': 0, '세종 소담동': 0, '세종 보람동': 0, '세종 대평동': 0, '세종 가람동': 0, '세종 한솔동': 0, '세종 나성동': 0, '세종 새롬동': 0, '세종 다정동': 0, '세종 어진동': 0, '세종 종촌동': 0, '세종 고운동': 0, '세종 아름동': 0, '세종 도담동': 0, '세종 산울동': 0, '세종 해밀동': 0, '세종 합강동': 0, '세종 집현동': 0, '세종 세종동': 0, '세종 누리동': 0, '세종 한별동': 0, '세종 다솜동': 0, '세종 용호동': 0, '세종 조치원읍': 0, '세종 연기면': 0, '세종 연동면': 0, '세종 부강면': 0, '세종 금남면': 0, '세종 장군면': 0, '세종 연서면': 0, '세종 전의면': 0, '세종 전동면': 0, '세종 소정면': 0, '경기': 0, '경기 수원시': 0, '경기 성남시': 0, '경기 의정부시': 0, '경기 안양시': 0, '경기 부천시': 0, '경기 광명시': 0, '경기 평택시': 0, '경기 동두천시': 0, '경기 안산시': 0, '경기 고양시': 0, '경기 과천시': 0, '경기 구리시': 0, '경기 남양주시': 0, '경기 오산시': 0, '경기 시흥시': 1, '경기 군포시': 0, '경기 의왕시': 0, '경기 하남시': 0, '경기 용인시': 0, '경기 파주시': 1, '경기 이천시': 0, '경기 안성시': 0, '경기 김포시': 0, '경기 화성시': 0, '경기 광주시': 0, '경기 양주시': 1, '경기 포천시': 0, '경기 여주시': 0, '경기 연천군': 0, '경기 가평군': 0, '경기 양평군': 0, '충북': 0, '충북 청주시': 0, '충북 충주시': 0, '충북 제천시': 0, '충북 보은군': 0, '충북 옥천군': 0, '충북 영동군': 0, '충북 증평군': 0, '충북 진천군': 0, '충북 괴산군': 0, '충북 음성군': 0, '충북 단양군': 0, '충남': 0, '충남 천안시': 0, '충남 공주시': 0, '충남 보령시': 0, '충남 아산시': 0, '충남 서산시': 0, '충남 논산시': 0, '충남 계룡시': 0, '충남 당진시': 0, '충남 금산군': 0, '충남 부여군': 0, '충남 서천군': 0, '충남 청양군': 0, '충남 홍성군': 0, '충남 예산군': 0, '충남 태안군': 0, '전남': 0, '전남 목포시': 0, '전남 여수시': 0, '전남 순천시': 0, '전남 나주시': 0, '전남 광양시': 0, '전남 담양군': 0, '전남 곡성군': 0, '전남 구례군': 0, '전남 고흥군': 0, '전남 보성군': 0, '전남 화순군': 0, '전남 장흥군': 0, '전남 강진군': 0, '전남 해남군': 0, '전남 영암군': 0, '전남 무안군': 0, '전남 함평군': 0, '전남 영광군': 0, '전남 장성군': 0, '전남 완도군': 0, '전남 진도군': 0, '전남 신안군': 0, '경북': 0, '경북 포항시': 0, '경북 경주시': 0, '경북 김천시': 0, '경북 안동시': 0, '경북 구미시': 0, '경북 영주시': 0, '경북 영천시': 0, '경북 상주시': 0, '경북 문경시': 0, '경북 경산시': 1, '경북 의성군': 0, '경북 청송군': 0, '경북 영양군': 0, '경북 영덕군': 0, '경북 청도군': 0, '경북 고령군': 0, '경북 성주군': 0, '경북 칠곡군': 0, '경북 예천군': 0, '경북 봉화군': 0, '경북 울진군': 0, '경북 울릉군': 0, '경남': 0, '경남 창원시': 0, '경남 진주시': 0, '경남 통영시': 0, '경남 사천시': 0, '경남 김해시': 0, '경남 밀양시': 0, '경남 거제시': 0, '경남 양산시': 0, '경남 의령군': 0, '경남 함안군': 0, '경남 창녕군': 0, '경남 고성군': 0, '경남 남해군': 0, '경남 하동군': 0, '경남 산청군': 0, '경남 함양군': 0, '경남 거창군': 0, '경남 합천군': 0, '제주': 0, '제주 제주시': 0, '제주 서귀포시': 0, '강원': 0, '강원 춘천시': 0, '강원 원주시': 0, '강원 강릉시': 0, '강원 동해시': 0, '강원 태백시': 0, '강원 속초시': 0, '강원 삼척시': 0, '강원 홍천군': 0, '강원 횡성군': 0, '강원 영월군': 1, '강원 평창군': 0, '강원 정선군': 0, '강원 철원군': 0, '강원 화천군': 0, '강원 양구군': 0, '강원 인제군': 0, '강원 고성군': 0, '강원 양양군': 0, '전북': 0, '전북 전주시': 0, '전북 군산시': 0, '전북 익산시': 0, '전북 정읍시': 0, '전북 남원시': 0, '전북 김제시': 0, '전북 완주군': 0, '전북 진안군': 0, '전북 무주군': 0, '전북 장수군': 0, '전북 임실군': 0, '전북 순창군': 0, '전북 고창군': 0, '전북 부안군': 0}\n"
     ]
    }
   ],
   "source": [
    "data_list = []\n",
    "for item in items:\n",
    "    work_item = item['workPlcNm']\n",
    "    if(work_item in data_dict):\n",
    "        data_dict[work_item] = data_dict[work_item] + 1\n",
    "\n",
    "print(data_dict)\n",
    "    "
   ]
  },
  {
   "cell_type": "code",
   "execution_count": null,
   "metadata": {},
   "outputs": [],
   "source": []
  }
 ],
 "metadata": {
  "kernelspec": {
   "display_name": "Python 3",
   "language": "python",
   "name": "python3"
  },
  "language_info": {
   "codemirror_mode": {
    "name": "ipython",
    "version": 3
   },
   "file_extension": ".py",
   "mimetype": "text/x-python",
   "name": "python",
   "nbconvert_exporter": "python",
   "pygments_lexer": "ipython3",
   "version": "3.11.7"
  }
 },
 "nbformat": 4,
 "nbformat_minor": 2
}
